{
  "nbformat": 4,
  "nbformat_minor": 0,
  "metadata": {
    "colab": {
      "provenance": []
    },
    "kernelspec": {
      "name": "python3",
      "display_name": "Python 3"
    },
    "language_info": {
      "name": "python"
    }
  },
  "cells": [
    {
      "cell_type": "markdown",
      "source": [
        "# **SMA EXP 7 - YASH ASHOK SHIRSATH**"
      ],
      "metadata": {
        "id": "HWTSnWAfTr5v"
      }
    },
    {
      "cell_type": "markdown",
      "source": [
        "AIM - Develop a dashboard and reporting tool based on real time social media data."
      ],
      "metadata": {
        "id": "yCcTkXFSUddM"
      }
    },
    {
      "cell_type": "code",
      "source": [
        "!pip install praw\n",
        "!pip install dash\n",
        "!pip install plotly"
      ],
      "metadata": {
        "id": "YlMwl1oNUfLL"
      },
      "execution_count": null,
      "outputs": []
    },
    {
      "cell_type": "code",
      "execution_count": 9,
      "metadata": {
        "colab": {
          "base_uri": "https://localhost:8080/",
          "height": 672
        },
        "id": "g8-gWKecTrKq",
        "outputId": "a05c871d-3e46-45d8-9832-6e10593a5453"
      },
      "outputs": [
        {
          "output_type": "display_data",
          "data": {
            "text/plain": [
              "<IPython.core.display.Javascript object>"
            ],
            "application/javascript": [
              "(async (port, path, width, height, cache, element) => {\n",
              "    if (!google.colab.kernel.accessAllowed && !cache) {\n",
              "      return;\n",
              "    }\n",
              "    element.appendChild(document.createTextNode(''));\n",
              "    const url = await google.colab.kernel.proxyPort(port, {cache});\n",
              "    const iframe = document.createElement('iframe');\n",
              "    iframe.src = new URL(path, url).toString();\n",
              "    iframe.height = height;\n",
              "    iframe.width = width;\n",
              "    iframe.style.border = 0;\n",
              "    iframe.allow = [\n",
              "        'accelerometer',\n",
              "        'autoplay',\n",
              "        'camera',\n",
              "        'clipboard-read',\n",
              "        'clipboard-write',\n",
              "        'gyroscope',\n",
              "        'magnetometer',\n",
              "        'microphone',\n",
              "        'serial',\n",
              "        'usb',\n",
              "        'xr-spatial-tracking',\n",
              "    ].join('; ');\n",
              "    element.appendChild(iframe);\n",
              "  })(8050, \"/\", \"100%\", 650, false, window.element)"
            ]
          },
          "metadata": {}
        }
      ],
      "source": [
        "import praw\n",
        "import pandas as pd\n",
        "from datetime import datetime\n",
        "import dash\n",
        "from dash import dcc, html\n",
        "import plotly.express as px\n",
        "from dash.dependencies import Input, Output\n",
        "\n",
        "REDDIT_CLIENT_ID = \"w3IbWRZ2CgKrUoVUOFalrQ\"\n",
        "REDDIT_CLIENT_SECRET = \"UDXWk892GV7L_GE4G-FFjBWgbmKDiQ\"\n",
        "REDDIT_USER_AGENT = \"mom\"\n",
        "\n",
        "reddit = praw.Reddit(client_id=REDDIT_CLIENT_ID,\n",
        "                     client_secret=REDDIT_CLIENT_SECRET,\n",
        "                     user_agent=REDDIT_USER_AGENT)\n",
        "\n",
        "# Initialize Dash app\n",
        "app = dash.Dash(__name__)\n",
        "\n",
        "# Layout\n",
        "app.layout = html.Div([\n",
        "    dcc.Interval(id=\"update-interval\", interval=60000, n_intervals=0),  # Auto-update every 60 sec\n",
        "    dcc.Graph(id=\"reddit-trend\")\n",
        "])\n",
        "\n",
        "# Function to fetch Reddit posts\n",
        "def fetch_reddit_data(subreddit=\"technology\", limit=10):\n",
        "    posts = []\n",
        "    for post in reddit.subreddit(subreddit).hot(limit=limit):\n",
        "        posts.append({\"Title\": post.title, \"Score\": post.score})\n",
        "    return pd.DataFrame(posts)\n",
        "\n",
        "# Callback to update graph\n",
        "@app.callback(\n",
        "    Output(\"reddit-trend\", \"figure\"),\n",
        "    Input(\"update-interval\", \"n_intervals\")\n",
        ")\n",
        "def update_reddit_trend(n):\n",
        "    try:\n",
        "        df = fetch_reddit_data()\n",
        "        if df.empty:\n",
        "            return px.bar(title=\"No Data Available\")  # Handle empty data case\n",
        "\n",
        "        fig = px.bar(df, x=\"Title\", y=\"Score\", title=\"Trending Reddit Posts\")\n",
        "        fig.update_layout(xaxis_tickangle=-45)\n",
        "        return fig\n",
        "\n",
        "    except Exception as e:\n",
        "        print(f\"Error fetching Reddit data: {e}\")\n",
        "        return px.bar(title=\"Error Fetching Data\")\n",
        "\n",
        "# Run app\n",
        "if __name__ == '__main__':\n",
        "    app.run(debug=True)"
      ]
    }
  ]
}