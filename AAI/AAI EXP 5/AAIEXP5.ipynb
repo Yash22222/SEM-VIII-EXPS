{
  "cells": [
    {
      "cell_type": "markdown",
      "metadata": {
        "id": "o_vvgHAyNoYn"
      },
      "source": [
        "# **AAI EXP 5 - YASH ASHOK SHIRSATH**"
      ]
    },
    {
      "cell_type": "code",
      "execution_count": 1,
      "metadata": {
        "colab": {
          "base_uri": "https://localhost:8080/",
          "height": 641
        },
        "id": "HCjTw6xyNnGK",
        "outputId": "deae369a-3169-4a4f-fd3a-585c95c64610"
      },
      "outputs": [
        {
          "output_type": "stream",
          "name": "stdout",
          "text": [
            "Downloading data from https://storage.googleapis.com/tensorflow/tf-keras-datasets/mnist.npz\n",
            "\u001b[1m11490434/11490434\u001b[0m \u001b[32m━━━━━━━━━━━━━━━━━━━━\u001b[0m\u001b[37m\u001b[0m \u001b[1m0s\u001b[0m 0us/step\n"
          ]
        },
        {
          "output_type": "stream",
          "name": "stderr",
          "text": [
            "/usr/local/lib/python3.11/dist-packages/keras/src/layers/core/dense.py:87: UserWarning: Do not pass an `input_shape`/`input_dim` argument to a layer. When using Sequential models, prefer using an `Input(shape)` object as the first layer in the model instead.\n",
            "  super().__init__(activity_regularizer=activity_regularizer, **kwargs)\n",
            "/usr/local/lib/python3.11/dist-packages/keras/src/layers/convolutional/base_conv.py:107: UserWarning: Do not pass an `input_shape`/`input_dim` argument to a layer. When using Sequential models, prefer using an `Input(shape)` object as the first layer in the model instead.\n",
            "  super().__init__(activity_regularizer=activity_regularizer, **kwargs)\n"
          ]
        },
        {
          "output_type": "stream",
          "name": "stdout",
          "text": [
            "Epoch 1/20 completed.\n",
            "Epoch 2/20 completed.\n",
            "Epoch 3/20 completed.\n",
            "Epoch 4/20 completed.\n",
            "Epoch 5/20 completed.\n",
            "Epoch 6/20 completed.\n",
            "Epoch 7/20 completed.\n",
            "Epoch 8/20 completed.\n",
            "Epoch 9/20 completed.\n",
            "Epoch 10/20 completed.\n",
            "Epoch 11/20 completed.\n",
            "Epoch 12/20 completed.\n",
            "Epoch 13/20 completed.\n",
            "Epoch 14/20 completed.\n",
            "Epoch 15/20 completed.\n",
            "Epoch 16/20 completed.\n",
            "Epoch 17/20 completed.\n",
            "Epoch 18/20 completed.\n",
            "Epoch 19/20 completed.\n",
            "Epoch 20/20 completed.\n"
          ]
        },
        {
          "output_type": "display_data",
          "data": {
            "text/plain": [
              "<Figure size 1000x200 with 5 Axes>"
            ],
            "image/png": "[encoded data removed]"
          },
          "metadata": {}
        }
      ],
      "source": [
        "import tensorflow as tf\n",
        "from tensorflow import keras\n",
        "from tensorflow.keras import layers\n",
        "import numpy as np\n",
        "import matplotlib.pyplot as plt\n",
        "\n",
        "# Set random seed for reproducibility\n",
        "tf.random.set_seed(42)\n",
        "np.random.seed(42)\n",
        "\n",
        "# Hyperparameters\n",
        "LATENT_DIM = 100\n",
        "IMG_SHAPE = (28, 28, 1)\n",
        "BATCH_SIZE = 64  # Reduced batch size for faster training\n",
        "EPOCHS = 20  # Fewer epochs for quick execution\n",
        "\n",
        "# Load dataset\n",
        "(x_train, _), (_, _) = keras.datasets.mnist.load_data()\n",
        "x_train = (x_train.astype(np.float32) - 127.5) / 127.5  # Normalize to [-1, 1]\n",
        "x_train = np.expand_dims(x_train, axis=-1)\n",
        "dataset = tf.data.Dataset.from_tensor_slices(x_train).shuffle(60000).batch(BATCH_SIZE)\n",
        "\n",
        "# Generator\n",
        "def build_generator():\n",
        "    model = keras.Sequential([\n",
        "        layers.Dense(7 * 7 * 128, input_shape=(LATENT_DIM,)),\n",
        "        layers.ReLU(),\n",
        "        layers.Reshape((7, 7, 128)),\n",
        "        layers.Conv2DTranspose(64, 4, strides=2, padding=\"same\", activation=\"relu\"),\n",
        "        layers.Conv2DTranspose(1, 4, strides=2, padding=\"same\", activation=\"tanh\")\n",
        "    ])\n",
        "    return model\n",
        "\n",
        "# Discriminator\n",
        "def build_discriminator():\n",
        "    model = keras.Sequential([\n",
        "        layers.Conv2D(64, 4, strides=2, padding=\"same\", input_shape=IMG_SHAPE),\n",
        "        layers.LeakyReLU(0.2),\n",
        "        layers.Conv2D(128, 4, strides=2, padding=\"same\"),\n",
        "        layers.LeakyReLU(0.2),\n",
        "        layers.Flatten(),\n",
        "        layers.Dense(1, activation=\"sigmoid\")\n",
        "    ])\n",
        "    return model\n",
        "\n",
        "# Models & Optimizers\n",
        "generator = build_generator()\n",
        "discriminator = build_discriminator()\n",
        "loss_fn = keras.losses.BinaryCrossentropy()\n",
        "gen_opt = keras.optimizers.Adam(0.0002, 0.5)\n",
        "disc_opt = keras.optimizers.Adam(0.0002, 0.5)\n",
        "\n",
        "# Training Step\n",
        "@tf.function\n",
        "def train_step(real_images):\n",
        "    noise = tf.random.normal([BATCH_SIZE, LATENT_DIM])\n",
        "\n",
        "    with tf.GradientTape() as gen_tape, tf.GradientTape() as disc_tape:\n",
        "        fake_images = generator(noise, training=True)\n",
        "        real_output = discriminator(real_images, training=True)\n",
        "        fake_output = discriminator(fake_images, training=True)\n",
        "\n",
        "        gen_loss = loss_fn(tf.ones_like(fake_output), fake_output)\n",
        "        disc_loss = loss_fn(tf.ones_like(real_output), real_output) + loss_fn(tf.zeros_like(fake_output), fake_output)\n",
        "\n",
        "    gen_grads = gen_tape.gradient(gen_loss, generator.trainable_variables)\n",
        "    disc_grads = disc_tape.gradient(disc_loss, discriminator.trainable_variables)\n",
        "\n",
        "    gen_opt.apply_gradients(zip(gen_grads, generator.trainable_variables))\n",
        "    disc_opt.apply_gradients(zip(disc_grads, discriminator.trainable_variables))\n",
        "\n",
        "# Training Loop\n",
        "def train(dataset, epochs):\n",
        "    for epoch in range(epochs):\n",
        "        for batch in dataset:\n",
        "            train_step(batch)\n",
        "        print(f\"Epoch {epoch+1}/{epochs} completed.\")\n",
        "\n",
        "# Run Training\n",
        "train(dataset, EPOCHS)\n",
        "\n",
        "# Generate & Display Images\n",
        "def generate_images(model, num_images=5):\n",
        "    noise = tf.random.normal([num_images, LATENT_DIM])\n",
        "    images = model(noise, training=False)\n",
        "\n",
        "    fig, axes = plt.subplots(1, num_images, figsize=(10, 2))\n",
        "    for i, ax in enumerate(axes):\n",
        "        ax.imshow(images[i, :, :, 0], cmap=\"gray\")\n",
        "        ax.axis(\"off\")\n",
        "    plt.show()\n",
        "\n",
        "generate_images(generator)\n"
      ]
    }
  ],
  "metadata": {
    "colab": {
      "provenance": [],
      "gpuType": "T4"
    },
    "kernelspec": {
      "display_name": "Python 3",
      "name": "python3"
    },
    "language_info": {
      "name": "python"
    },
    "accelerator": "GPU"
  },
  "nbformat": 4,
  "nbformat_minor": 0
}