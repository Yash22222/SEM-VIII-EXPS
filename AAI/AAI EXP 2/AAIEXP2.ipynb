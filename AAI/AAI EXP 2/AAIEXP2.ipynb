{
  "nbformat": 4,
  "nbformat_minor": 0,
  "metadata": {
    "colab": {
      "provenance": []
    },
    "kernelspec": {
      "name": "python3",
      "display_name": "Python 3"
    },
    "language_info": {
      "name": "python"
    }
  },
  "cells": [
    {
      "cell_type": "markdown",
      "source": [
        "## **Aim - Design and Implementation of a Hidden Markov Model for Outcome Prediction**"
      ],
      "metadata": {
        "id": "fQPBOHGzb0LX"
      }
    },
    {
      "cell_type": "markdown",
      "source": [
        "### **AAI EXP - 2 Yash Ashok Shirsath**"
      ],
      "metadata": {
        "id": "tQUzaPRrb4b2"
      }
    },
    {
      "cell_type": "code",
      "execution_count": 1,
      "metadata": {
        "colab": {
          "base_uri": "https://localhost:8080/"
        },
        "id": "zuwmCxuRbYKc",
        "outputId": "fbd06e7a-67f7-4120-9bef-6292d3b96079"
      },
      "outputs": [
        {
          "output_type": "stream",
          "name": "stdout",
          "text": [
            "Forward probabilities:\n",
            " [[0.06     0.24    ]\n",
            " [0.0552   0.0486  ]\n",
            " [0.02904  0.004572]]\n",
            "\n",
            "Most likely sequence of hidden states:\n",
            " ['Sunny', 'Rainy', 'Rainy']\n",
            "\n",
            "Observations: ['walk', 'shop', 'clean']\n"
          ]
        }
      ],
      "source": [
        "import numpy as np\n",
        "\n",
        "class HMM:\n",
        "    def __init__(self, states, observations, start_prob, trans_prob, emission_prob):\n",
        "        self.states = states\n",
        "        self.observations = observations\n",
        "        self.start_prob = np.array(start_prob)\n",
        "        self.trans_prob = np.array(trans_prob)\n",
        "        self.emission_prob = np.array(emission_prob)\n",
        "\n",
        "        assert len(self.start_prob) == len(self.states), \"Start probability vector dimension mismatch.\"\n",
        "        assert self.trans_prob.shape == (len(self.states), len(self.states)), \"Transition probability matrix dimension mismatch.\"\n",
        "        assert self.emission_prob.shape == (len(self.states), len(self.observations)), \"Emission probability matrix dimension mismatch.\"\n",
        "\n",
        "    def forward(self, obs_seq):\n",
        "        T = len(obs_seq)\n",
        "        N = len(self.states)\n",
        "        alpha = np.zeros((T, N))\n",
        "\n",
        "        for s in range(N):\n",
        "            alpha[0, s] = self.start_prob[s] * self.emission_prob[s, obs_seq[0]]\n",
        "\n",
        "        for t in range(1, T):\n",
        "            for s in range(N):\n",
        "                alpha[t, s] = np.sum(alpha[t-1, :] * self.trans_prob[:, s]) * self.emission_prob[s, obs_seq[t]]\n",
        "\n",
        "        return alpha\n",
        "\n",
        "    def viterbi(self, obs_seq):\n",
        "        T = len(obs_seq)\n",
        "        N = len(self.states)\n",
        "        delta = np.zeros((T, N))\n",
        "        psi = np.zeros((T, N), dtype=int)\n",
        "\n",
        "\n",
        "        for s in range(N):\n",
        "            delta[0, s] = self.start_prob[s] * self.emission_prob[s, obs_seq[0]]\n",
        "            psi[0, s] = 0\n",
        "\n",
        "\n",
        "        for t in range(1, T):\n",
        "            for s in range(N):\n",
        "                delta[t, s] = np.max(delta[t-1, :] * self.trans_prob[:, s]) * self.emission_prob[s, obs_seq[t]]\n",
        "                psi[t, s] = np.argmax(delta[t-1, :] * self.trans_prob[:, s])\n",
        "\n",
        "        path = [np.argmax(delta[T-1, :])]\n",
        "        for t in range(T-2, -1, -1):\n",
        "            path.insert(0, psi[t+1, path[0]])\n",
        "\n",
        "        return path, delta\n",
        "\n",
        "states = [\"Rainy\", \"Sunny\"]\n",
        "observations = [\"walk\", \"shop\", \"clean\"]\n",
        "start_probability = [0.6, 0.4]\n",
        "transition_probability = [\n",
        "    [0.7, 0.3],\n",
        "    [0.4, 0.6]\n",
        "]\n",
        "emission_probability = [\n",
        "    [0.1, 0.4, 0.5],\n",
        "    [0.6, 0.3, 0.1]\n",
        "]\n",
        "\n",
        "hmm_model = HMM(states, observations, start_probability, transition_probability, emission_probability)\n",
        "obs_seq = [0, 1, 2]  # walk, shop, clean (index into observations)\n",
        "\n",
        "alpha = hmm_model.forward(obs_seq)\n",
        "print(\"Forward probabilities:\\n\", alpha)\n",
        "path, delta = hmm_model.viterbi(obs_seq)\n",
        "print(\"\\nMost likely sequence of hidden states:\\n\", [states[i] for i in path])\n",
        "decoded_observations = [observations[i] for i in obs_seq]\n",
        "print(\"\\nObservations:\", decoded_observations)\n"
      ]
    }
  ]
}